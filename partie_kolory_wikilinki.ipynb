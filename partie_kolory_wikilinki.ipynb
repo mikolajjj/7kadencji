{
 "cells": [
  {
   "cell_type": "markdown",
   "metadata": {},
   "source": [
    "## Notka\n",
    "\n",
    "Jak Cię interesuje tylko rezultat - otwórz plik `partie.csv`."
   ]
  },
  {
   "cell_type": "code",
   "execution_count": 1,
   "metadata": {
    "collapsed": true
   },
   "outputs": [],
   "source": [
    "from bs4 import BeautifulSoup\n",
    "import requests\n",
    "import pandas as pd"
   ]
  },
  {
   "cell_type": "code",
   "execution_count": 2,
   "metadata": {
    "collapsed": true
   },
   "outputs": [],
   "source": [
    "adres = \"https://pl.wikipedia.org/wiki/Pos%C5%82owie_na_Sejm_Rzeczypospolitej_Polskiej_{}_kadencji\"\n",
    "kadencje = [\"I\", \"II\", \"III\", \"IV\", \"V\", \"VI\", \"VII\", \"VIII\"]"
   ]
  },
  {
   "cell_type": "code",
   "execution_count": 3,
   "metadata": {
    "collapsed": false
   },
   "outputs": [
    {
     "data": {
      "text/plain": [
       "'https://pl.wikipedia.org/wiki/Pos%C5%82owie_na_Sejm_Rzeczypospolitej_Polskiej_I_kadencji'"
      ]
     },
     "execution_count": 3,
     "metadata": {},
     "output_type": "execute_result"
    }
   ],
   "source": [
    "adres.format(kadencje[0])"
   ]
  },
  {
   "cell_type": "code",
   "execution_count": 4,
   "metadata": {
    "collapsed": false
   },
   "outputs": [],
   "source": [
    "zupa = BeautifulSoup(requests.get(adres.format(kadencje[0])).content)"
   ]
  },
  {
   "cell_type": "code",
   "execution_count": 5,
   "metadata": {
    "collapsed": false
   },
   "outputs": [],
   "source": [
    "tabela = zupa.find(\"table\", \"wikitable\")"
   ]
  },
  {
   "cell_type": "code",
   "execution_count": 6,
   "metadata": {
    "collapsed": false
   },
   "outputs": [
    {
     "data": {
      "text/plain": [
       "'Ugrupowanie polityczne[a]'"
      ]
     },
     "execution_count": 6,
     "metadata": {},
     "output_type": "execute_result"
    }
   ],
   "source": [
    "tabela.find(\"th\").text"
   ]
  },
  {
   "cell_type": "code",
   "execution_count": 7,
   "metadata": {
    "collapsed": false
   },
   "outputs": [
    {
     "data": {
      "text/plain": [
       "<tr>\n",
       "<td style=\"background: #FFFF00;\"></td>\n",
       "<td style=\"text-align:left;\"><a href=\"/wiki/Niezale%C5%BCny_Samorz%C4%85dny_Zwi%C4%85zek_Zawodowy_%E2%80%9ESolidarno%C5%9B%C4%87%E2%80%9D\" title=\"Niezależny Samorządny Związek Zawodowy „Solidarność”\">Niezależny Samorządny Związek Zawodowy „Solidarność”</a></td>\n",
       "<td>27</td>\n",
       "<td>26</td>\n",
       "<td><span style=\"white-space:nowrap;\"><img alt=\"Decrease2.svg\" data-file-height=\"300\" data-file-width=\"300\" height=\"11\" src=\"//upload.wikimedia.org/wikipedia/commons/thumb/e/ed/Decrease2.svg/11px-Decrease2.svg.png\" srcset=\"//upload.wikimedia.org/wikipedia/commons/thumb/e/ed/Decrease2.svg/17px-Decrease2.svg.png 1.5x, //upload.wikimedia.org/wikipedia/commons/thumb/e/ed/Decrease2.svg/22px-Decrease2.svg.png 2x\" width=\"11\"/> <span style=\"font-size: 12px; vertical-align: middle;\">1</span></span></td>\n",
       "</tr>"
      ]
     },
     "execution_count": 7,
     "metadata": {},
     "output_type": "execute_result"
    }
   ],
   "source": [
    "tabela.find_all(\"tr\")[8]"
   ]
  },
  {
   "cell_type": "code",
   "execution_count": 8,
   "metadata": {
    "collapsed": true
   },
   "outputs": [],
   "source": [
    "def parse_row(tr):\n",
    "    tds = tr.find_all(\"td\")\n",
    "    kolor = tds[0].attrs[\"style\"][-8:-1]\n",
    "    a = tds[1].find(\"a\")\n",
    "    partia = a.text\n",
    "    wikilink = a.attrs[\"href\"]\n",
    "    if partia.startswith(\"[\"):\n",
    "        partia = \"Niezrzeszeni\"\n",
    "        wikilink = \"\"\n",
    "    return {\"partia\": partia, \"kolor\": kolor, \"wikilink\": wikilink}"
   ]
  },
  {
   "cell_type": "code",
   "execution_count": 9,
   "metadata": {
    "collapsed": false
   },
   "outputs": [
    {
     "data": {
      "text/plain": [
       "[{'kolor': '#E2001A',\n",
       "  'partia': 'Sojusz Lewicy Demokratycznej',\n",
       "  'wikilink': '/wiki/Sojusz_Lewicy_Demokratycznej'},\n",
       " {'kolor': '#FF9900',\n",
       "  'partia': 'Unia Demokratyczna',\n",
       "  'wikilink': '/wiki/Unia_Demokratyczna'},\n",
       " {'kolor': '#1BB100',\n",
       "  'partia': 'Polskie Stronnictwo Ludowe',\n",
       "  'wikilink': '/wiki/Polskie_Stronnictwo_Ludowe'},\n",
       " {'kolor': '#FCA241',\n",
       "  'partia': 'Polski Program Liberalny',\n",
       "  'wikilink': '/wiki/Polski_Program_Liberalny'},\n",
       " {'kolor': '#333300',\n",
       "  'partia': 'Konfederacja Polski Niepodległej',\n",
       "  'wikilink': '/wiki/Konfederacja_Polski_Niepodleg%C5%82ej'},\n",
       " {'kolor': '#007FFF',\n",
       "  'partia': 'Zjednoczenie Chrześcijańsko-Narodowe',\n",
       "  'wikilink': '/wiki/Zjednoczenie_Chrze%C5%9Bcija%C5%84sko-Narodowe'},\n",
       " {'kolor': '#33CC66',\n",
       "  'partia': 'Konwencja Polska',\n",
       "  'wikilink': '/wiki/Konwencja_Polska'},\n",
       " {'kolor': '#FFFF00',\n",
       "  'partia': 'Niezależny Samorządny Związek Zawodowy „Solidarność”',\n",
       "  'wikilink': '/wiki/Niezale%C5%BCny_Samorz%C4%85dny_Zwi%C4%85zek_Zawodowy_%E2%80%9ESolidarno%C5%9B%C4%87%E2%80%9D'},\n",
       " {'kolor': '#FFFF66',\n",
       "  'partia': 'Porozumienie Centrum',\n",
       "  'wikilink': '/wiki/Porozumienie_Centrum'},\n",
       " {'kolor': '#008000',\n",
       "  'partia': 'Porozumienie Ludowe',\n",
       "  'wikilink': '/wiki/Polskie_Stronnictwo_Ludowe_%E2%80%93_Porozumienie_Ludowe'},\n",
       " {'kolor': '#002156',\n",
       "  'partia': 'Ruch dla Rzeczypospolitej',\n",
       "  'wikilink': '/wiki/Ruch_dla_Rzeczypospolitej'},\n",
       " {'kolor': '#0780C4',\n",
       "  'partia': 'Mniejszość Niemiecka',\n",
       "  'wikilink': '/wiki/Mniejszo%C5%9B%C4%87_Niemiecka_(komitet_wyborczy)'},\n",
       " {'kolor': '#BE282D',\n",
       "  'partia': 'Chrześcijańska Demokracja',\n",
       "  'wikilink': '/wiki/Chrze%C5%9Bcija%C5%84ska_Demokracja_(koalicja)'},\n",
       " {'kolor': '#CC0033', 'partia': 'Unia Pracy', 'wikilink': '/wiki/Unia_Pracy'},\n",
       " {'kolor': '#0091D2',\n",
       "  'partia': 'Unia Polityki Realnej',\n",
       "  'wikilink': '/wiki/Unia_Polityki_Realnej'},\n",
       " {'kolor': '#E9967A',\n",
       "  'partia': 'Akcja Polska',\n",
       "  'wikilink': '/wiki/Akcja_Polska'},\n",
       " {'kolor': '#007FFF',\n",
       "  'partia': 'Partia Emerytów i Rencistów \"Nadzieja\"',\n",
       "  'wikilink': '/wiki/Partia_Emeryt%C3%B3w_i_Rencist%C3%B3w_%22Nadzieja%22'},\n",
       " {'kolor': '#E6E6E6', 'partia': 'Niezrzeszeni', 'wikilink': ''}]"
      ]
     },
     "execution_count": 9,
     "metadata": {},
     "output_type": "execute_result"
    }
   ],
   "source": [
    "[parse_row(tr) for tr in tabela.find_all(\"tr\")[1:-1]]"
   ]
  },
  {
   "cell_type": "code",
   "execution_count": 10,
   "metadata": {
    "collapsed": true
   },
   "outputs": [],
   "source": [
    "def fetch_and_parse_kadencja(kadencja):\n",
    "    zupa = BeautifulSoup(requests.get(adres.format(kadencja)).content)\n",
    "    tabela = zupa.find(\"table\", \"wikitable\")\n",
    "    naglowek = tabela.find(\"th\").text\n",
    "    if not naglowek.startswith(\"Ugrupowanie polityczne\"):\n",
    "        raise Exception(\"Pierwsza tabela nie zaczyna się od 'Ugrupowanie polityczne'\")\n",
    "    res = [parse_row(tr) for tr in tabela.find_all(\"tr\")[1:-1]]\n",
    "    return res"
   ]
  },
  {
   "cell_type": "code",
   "execution_count": 11,
   "metadata": {
    "collapsed": false
   },
   "outputs": [],
   "source": [
    "dfs = []\n",
    "for i, kadencja in enumerate(kadencje):\n",
    "    df = pd.DataFrame(fetch_and_parse_kadencja(kadencja))\n",
    "    df[\"kadencja\"] = i + 1\n",
    "    dfs.append(df)"
   ]
  },
  {
   "cell_type": "code",
   "execution_count": 12,
   "metadata": {
    "collapsed": false
   },
   "outputs": [],
   "source": [
    "partie_i_kolor = pd.concat(dfs, ignore_index=True)\n",
    "partie_i_kolor = partie_i_kolor[[\"kadencja\", \"partia\", \"kolor\", \"wikilink\"]]"
   ]
  },
  {
   "cell_type": "code",
   "execution_count": 13,
   "metadata": {
    "collapsed": false
   },
   "outputs": [
    {
     "data": {
      "text/html": [
       "<div>\n",
       "<table border=\"1\" class=\"dataframe\">\n",
       "  <thead>\n",
       "    <tr style=\"text-align: right;\">\n",
       "      <th></th>\n",
       "      <th>kadencja</th>\n",
       "      <th>partia</th>\n",
       "      <th>kolor</th>\n",
       "      <th>wikilink</th>\n",
       "    </tr>\n",
       "  </thead>\n",
       "  <tbody>\n",
       "    <tr>\n",
       "      <th>0</th>\n",
       "      <td>1</td>\n",
       "      <td>Sojusz Lewicy Demokratycznej</td>\n",
       "      <td>#E2001A</td>\n",
       "      <td>/wiki/Sojusz_Lewicy_Demokratycznej</td>\n",
       "    </tr>\n",
       "    <tr>\n",
       "      <th>1</th>\n",
       "      <td>1</td>\n",
       "      <td>Unia Demokratyczna</td>\n",
       "      <td>#FF9900</td>\n",
       "      <td>/wiki/Unia_Demokratyczna</td>\n",
       "    </tr>\n",
       "    <tr>\n",
       "      <th>2</th>\n",
       "      <td>1</td>\n",
       "      <td>Polskie Stronnictwo Ludowe</td>\n",
       "      <td>#1BB100</td>\n",
       "      <td>/wiki/Polskie_Stronnictwo_Ludowe</td>\n",
       "    </tr>\n",
       "    <tr>\n",
       "      <th>3</th>\n",
       "      <td>1</td>\n",
       "      <td>Polski Program Liberalny</td>\n",
       "      <td>#FCA241</td>\n",
       "      <td>/wiki/Polski_Program_Liberalny</td>\n",
       "    </tr>\n",
       "    <tr>\n",
       "      <th>4</th>\n",
       "      <td>1</td>\n",
       "      <td>Konfederacja Polski Niepodległej</td>\n",
       "      <td>#333300</td>\n",
       "      <td>/wiki/Konfederacja_Polski_Niepodleg%C5%82ej</td>\n",
       "    </tr>\n",
       "  </tbody>\n",
       "</table>\n",
       "</div>"
      ],
      "text/plain": [
       "   kadencja                            partia    kolor  \\\n",
       "0         1      Sojusz Lewicy Demokratycznej  #E2001A   \n",
       "1         1                Unia Demokratyczna  #FF9900   \n",
       "2         1        Polskie Stronnictwo Ludowe  #1BB100   \n",
       "3         1          Polski Program Liberalny  #FCA241   \n",
       "4         1  Konfederacja Polski Niepodległej  #333300   \n",
       "\n",
       "                                      wikilink  \n",
       "0           /wiki/Sojusz_Lewicy_Demokratycznej  \n",
       "1                     /wiki/Unia_Demokratyczna  \n",
       "2             /wiki/Polskie_Stronnictwo_Ludowe  \n",
       "3               /wiki/Polski_Program_Liberalny  \n",
       "4  /wiki/Konfederacja_Polski_Niepodleg%C5%82ej  "
      ]
     },
     "execution_count": 13,
     "metadata": {},
     "output_type": "execute_result"
    }
   ],
   "source": [
    "partie_i_kolor.head()"
   ]
  },
  {
   "cell_type": "code",
   "execution_count": 14,
   "metadata": {
    "collapsed": false
   },
   "outputs": [
    {
     "data": {
      "text/plain": [
       "kadencja                                                    8\n",
       "partia                               KWW Mniejszość Niemiecka\n",
       "kolor                                                 #0780C4\n",
       "wikilink    /wiki/Mniejszo%C5%9B%C4%87_Niemiecka_(komitet_...\n",
       "Name: 91, dtype: object"
      ]
     },
     "execution_count": 14,
     "metadata": {},
     "output_type": "execute_result"
    }
   ],
   "source": [
    "partie_i_kolor.tail(1).iloc[0]"
   ]
  },
  {
   "cell_type": "code",
   "execution_count": 15,
   "metadata": {
    "collapsed": false
   },
   "outputs": [
    {
     "name": "stdout",
     "output_type": "stream",
     "text": [
      "Wszystkie partie mają kolory i wikilinki te same we wszystkich latach!\n"
     ]
    }
   ],
   "source": [
    "czy_wszytkie = True\n",
    "for partia, df_partii in partie_i_kolor.groupby(\"partia\"):\n",
    "    if not (df_partii[\"kolor\"] == df_partii[\"kolor\"].iloc[0]).all():\n",
    "        print(\"Partia {} ma różne kolory\".format(partia))\n",
    "        czy_wszytkie = False\n",
    "    if not (df_partii[\"wikilink\"] == df_partii[\"wikilink\"].iloc[0]).all():\n",
    "        print(\"Partia {} ma różne wikilinki\".format(partia))\n",
    "        czy_wszytkie = False\n",
    "        \n",
    "if czy_wszytkie:\n",
    "    print(\"Wszystkie partie mają kolory i wikilinki te same we wszystkich latach!\")"
   ]
  },
  {
   "cell_type": "code",
   "execution_count": 16,
   "metadata": {
    "collapsed": true
   },
   "outputs": [],
   "source": [
    "partie_i_kolor.to_csv(\"partie_per_kadencja.csv\", index=False)"
   ]
  },
  {
   "cell_type": "code",
   "execution_count": 17,
   "metadata": {
    "collapsed": false
   },
   "outputs": [],
   "source": [
    "partie_skrocone = partie_i_kolor.groupby(\"partia\").first().drop(\"kadencja\", axis=1)"
   ]
  },
  {
   "cell_type": "code",
   "execution_count": 18,
   "metadata": {
    "collapsed": true
   },
   "outputs": [],
   "source": [
    "partie_skrocone[\"kadencja_pierwsza\"] = partie_i_kolor.groupby(\"partia\")[\"kadencja\"].min()\n",
    "partie_skrocone[\"kadencja_ostatnia\"] = partie_i_kolor.groupby(\"partia\")[\"kadencja\"].max()"
   ]
  },
  {
   "cell_type": "code",
   "execution_count": 19,
   "metadata": {
    "collapsed": false
   },
   "outputs": [
    {
     "data": {
      "text/plain": [
       "50"
      ]
     },
     "execution_count": 19,
     "metadata": {},
     "output_type": "execute_result"
    }
   ],
   "source": [
    "len(partie_skrocone)"
   ]
  },
  {
   "cell_type": "code",
   "execution_count": 20,
   "metadata": {
    "collapsed": false
   },
   "outputs": [
    {
     "data": {
      "text/html": [
       "<div>\n",
       "<table border=\"1\" class=\"dataframe\">\n",
       "  <thead>\n",
       "    <tr style=\"text-align: right;\">\n",
       "      <th></th>\n",
       "      <th>kolor</th>\n",
       "      <th>wikilink</th>\n",
       "      <th>kadencja_pierwsza</th>\n",
       "      <th>kadencja_ostatnia</th>\n",
       "    </tr>\n",
       "    <tr>\n",
       "      <th>partia</th>\n",
       "      <th></th>\n",
       "      <th></th>\n",
       "      <th></th>\n",
       "      <th></th>\n",
       "    </tr>\n",
       "  </thead>\n",
       "  <tbody>\n",
       "    <tr>\n",
       "      <th>Akcja Polska</th>\n",
       "      <td>#E9967A</td>\n",
       "      <td>/wiki/Akcja_Polska</td>\n",
       "      <td>1</td>\n",
       "      <td>1</td>\n",
       "    </tr>\n",
       "    <tr>\n",
       "      <th>Akcja Wyborcza Solidarność</th>\n",
       "      <td>#FFFF00</td>\n",
       "      <td>/wiki/Akcja_Wyborcza_Solidarno%C5%9B%C4%87</td>\n",
       "      <td>3</td>\n",
       "      <td>3</td>\n",
       "    </tr>\n",
       "    <tr>\n",
       "      <th>Alternatywa</th>\n",
       "      <td>#336699</td>\n",
       "      <td>/wiki/Alternatywa_Ruch_Spo%C5%82eczny</td>\n",
       "      <td>3</td>\n",
       "      <td>3</td>\n",
       "    </tr>\n",
       "    <tr>\n",
       "      <th>Bezpartyjny Blok Wspierania Reform</th>\n",
       "      <td>#000000</td>\n",
       "      <td>/wiki/Bezpartyjny_Blok_Wspierania_Reform</td>\n",
       "      <td>2</td>\n",
       "      <td>2</td>\n",
       "    </tr>\n",
       "    <tr>\n",
       "      <th>Biało-Czerwoni</th>\n",
       "      <td>#FF0004</td>\n",
       "      <td>/wiki/Bia%C5%82o-Czerwoni</td>\n",
       "      <td>7</td>\n",
       "      <td>7</td>\n",
       "    </tr>\n",
       "  </tbody>\n",
       "</table>\n",
       "</div>"
      ],
      "text/plain": [
       "                                      kolor  \\\n",
       "partia                                        \n",
       "Akcja Polska                        #E9967A   \n",
       "Akcja Wyborcza Solidarność          #FFFF00   \n",
       "Alternatywa                         #336699   \n",
       "Bezpartyjny Blok Wspierania Reform  #000000   \n",
       "Biało-Czerwoni                      #FF0004   \n",
       "\n",
       "                                                                      wikilink  \\\n",
       "partia                                                                           \n",
       "Akcja Polska                                                /wiki/Akcja_Polska   \n",
       "Akcja Wyborcza Solidarność          /wiki/Akcja_Wyborcza_Solidarno%C5%9B%C4%87   \n",
       "Alternatywa                              /wiki/Alternatywa_Ruch_Spo%C5%82eczny   \n",
       "Bezpartyjny Blok Wspierania Reform    /wiki/Bezpartyjny_Blok_Wspierania_Reform   \n",
       "Biało-Czerwoni                                       /wiki/Bia%C5%82o-Czerwoni   \n",
       "\n",
       "                                    kadencja_pierwsza  kadencja_ostatnia  \n",
       "partia                                                                    \n",
       "Akcja Polska                                        1                  1  \n",
       "Akcja Wyborcza Solidarność                          3                  3  \n",
       "Alternatywa                                         3                  3  \n",
       "Bezpartyjny Blok Wspierania Reform                  2                  2  \n",
       "Biało-Czerwoni                                      7                  7  "
      ]
     },
     "execution_count": 20,
     "metadata": {},
     "output_type": "execute_result"
    }
   ],
   "source": [
    "partie_skrocone.head()"
   ]
  },
  {
   "cell_type": "code",
   "execution_count": 21,
   "metadata": {
    "collapsed": true
   },
   "outputs": [],
   "source": [
    "partie_skrocone.to_csv(\"partie.csv\")"
   ]
  },
  {
   "cell_type": "code",
   "execution_count": null,
   "metadata": {
    "collapsed": true
   },
   "outputs": [],
   "source": []
  }
 ],
 "metadata": {
  "kernelspec": {
   "display_name": "IPython (Python 3)",
   "language": "python",
   "name": "python3"
  },
  "language_info": {
   "codemirror_mode": {
    "name": "ipython",
    "version": 3
   },
   "file_extension": ".py",
   "mimetype": "text/x-python",
   "name": "python",
   "nbconvert_exporter": "python",
   "pygments_lexer": "ipython3",
   "version": "3.4.3"
  }
 },
 "nbformat": 4,
 "nbformat_minor": 0
}
