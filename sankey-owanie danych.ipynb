{
 "cells": [
  {
   "cell_type": "code",
   "execution_count": 1,
   "metadata": {
    "collapsed": true
   },
   "outputs": [],
   "source": [
    "import pandas as pd"
   ]
  },
  {
   "cell_type": "code",
   "execution_count": 2,
   "metadata": {
    "collapsed": true
   },
   "outputs": [],
   "source": [
    "df = pd.read_csv(\"./all.csv\", index_col=0)"
   ]
  },
  {
   "cell_type": "code",
   "execution_count": 3,
   "metadata": {
    "collapsed": false
   },
   "outputs": [
    {
     "data": {
      "text/html": [
       "<div>\n",
       "<table border=\"1\" class=\"dataframe\">\n",
       "  <thead>\n",
       "    <tr style=\"text-align: right;\">\n",
       "      <th></th>\n",
       "      <th>kadencja</th>\n",
       "      <th>etap</th>\n",
       "      <th>osoba</th>\n",
       "      <th>klub</th>\n",
       "    </tr>\n",
       "  </thead>\n",
       "  <tbody>\n",
       "    <tr>\n",
       "      <th>1</th>\n",
       "      <td>1</td>\n",
       "      <td>start</td>\n",
       "      <td>Adam Glapiński</td>\n",
       "      <td>Klub Parlamentarny Porozumienia Centrum</td>\n",
       "    </tr>\n",
       "    <tr>\n",
       "      <th>2</th>\n",
       "      <td>1</td>\n",
       "      <td>end</td>\n",
       "      <td>Adam Glapiński</td>\n",
       "      <td>Klub Parlamentarny Porozumienia Centrum</td>\n",
       "    </tr>\n",
       "    <tr>\n",
       "      <th>3</th>\n",
       "      <td>1</td>\n",
       "      <td>start</td>\n",
       "      <td>Adam Halber</td>\n",
       "      <td>Polska Partia Przyjaciół Piwa</td>\n",
       "    </tr>\n",
       "    <tr>\n",
       "      <th>4</th>\n",
       "      <td>1</td>\n",
       "      <td>end</td>\n",
       "      <td>Adam Halber</td>\n",
       "      <td>Sojusz Lewicy Demokratycznej Klub Parlamentarny</td>\n",
       "    </tr>\n",
       "    <tr>\n",
       "      <th>5</th>\n",
       "      <td>1</td>\n",
       "      <td>start</td>\n",
       "      <td>Adam Lipiński</td>\n",
       "      <td>Klub Parlamentarny Porozumienia Centrum</td>\n",
       "    </tr>\n",
       "  </tbody>\n",
       "</table>\n",
       "</div>"
      ],
      "text/plain": [
       "   kadencja   etap           osoba  \\\n",
       "1         1  start  Adam Glapiński   \n",
       "2         1    end  Adam Glapiński   \n",
       "3         1  start     Adam Halber   \n",
       "4         1    end     Adam Halber   \n",
       "5         1  start   Adam Lipiński   \n",
       "\n",
       "                                              klub  \n",
       "1          Klub Parlamentarny Porozumienia Centrum  \n",
       "2          Klub Parlamentarny Porozumienia Centrum  \n",
       "3                    Polska Partia Przyjaciół Piwa  \n",
       "4  Sojusz Lewicy Demokratycznej Klub Parlamentarny  \n",
       "5          Klub Parlamentarny Porozumienia Centrum  "
      ]
     },
     "execution_count": 3,
     "metadata": {},
     "output_type": "execute_result"
    }
   ],
   "source": [
    "df.head()"
   ]
  },
  {
   "cell_type": "code",
   "execution_count": 4,
   "metadata": {
    "collapsed": false
   },
   "outputs": [],
   "source": [
    "df_kluby_slowniczek = pd.read_csv(\"./slownik_klubow.csv\", index_col=0)"
   ]
  },
  {
   "cell_type": "code",
   "execution_count": 5,
   "metadata": {
    "collapsed": false
   },
   "outputs": [],
   "source": [
    "kluby_dict = {v['old']: v['klub'] for k, v in df_kluby_slowniczek.iterrows()}"
   ]
  },
  {
   "cell_type": "code",
   "execution_count": 6,
   "metadata": {
    "collapsed": false
   },
   "outputs": [],
   "source": [
    "df['klub'] = df['klub'].map(kluby_dict)"
   ]
  },
  {
   "cell_type": "code",
   "execution_count": 7,
   "metadata": {
    "collapsed": false
   },
   "outputs": [
    {
     "data": {
      "text/html": [
       "<div>\n",
       "<table border=\"1\" class=\"dataframe\">\n",
       "  <thead>\n",
       "    <tr style=\"text-align: right;\">\n",
       "      <th></th>\n",
       "      <th>kadencja</th>\n",
       "      <th>etap</th>\n",
       "      <th>osoba</th>\n",
       "      <th>klub</th>\n",
       "    </tr>\n",
       "  </thead>\n",
       "  <tbody>\n",
       "    <tr>\n",
       "      <th>1</th>\n",
       "      <td>1</td>\n",
       "      <td>start</td>\n",
       "      <td>Adam Glapiński</td>\n",
       "      <td>Porozumienie Centrum</td>\n",
       "    </tr>\n",
       "    <tr>\n",
       "      <th>2</th>\n",
       "      <td>1</td>\n",
       "      <td>end</td>\n",
       "      <td>Adam Glapiński</td>\n",
       "      <td>Porozumienie Centrum</td>\n",
       "    </tr>\n",
       "    <tr>\n",
       "      <th>3</th>\n",
       "      <td>1</td>\n",
       "      <td>start</td>\n",
       "      <td>Adam Halber</td>\n",
       "      <td>Polska Partia Przyjaciół Piwa</td>\n",
       "    </tr>\n",
       "    <tr>\n",
       "      <th>4</th>\n",
       "      <td>1</td>\n",
       "      <td>end</td>\n",
       "      <td>Adam Halber</td>\n",
       "      <td>Sojusz Lewicy Demokratycznej</td>\n",
       "    </tr>\n",
       "    <tr>\n",
       "      <th>5</th>\n",
       "      <td>1</td>\n",
       "      <td>start</td>\n",
       "      <td>Adam Lipiński</td>\n",
       "      <td>Porozumienie Centrum</td>\n",
       "    </tr>\n",
       "  </tbody>\n",
       "</table>\n",
       "</div>"
      ],
      "text/plain": [
       "   kadencja   etap           osoba                           klub\n",
       "1         1  start  Adam Glapiński           Porozumienie Centrum\n",
       "2         1    end  Adam Glapiński           Porozumienie Centrum\n",
       "3         1  start     Adam Halber  Polska Partia Przyjaciół Piwa\n",
       "4         1    end     Adam Halber   Sojusz Lewicy Demokratycznej\n",
       "5         1  start   Adam Lipiński           Porozumienie Centrum"
      ]
     },
     "execution_count": 7,
     "metadata": {},
     "output_type": "execute_result"
    }
   ],
   "source": [
    "df.head()"
   ]
  },
  {
   "cell_type": "code",
   "execution_count": 8,
   "metadata": {
    "collapsed": false
   },
   "outputs": [
    {
     "data": {
      "text/plain": [
       "Platforma Obywatelska           197\n",
       "Prawo i Sprawiedliwość          134\n",
       "Polskie Stronnictwo Ludowe       38\n",
       "Sojusz Lewicy Demokratycznej     35\n",
       "Posłowie niezrzeszeni            25\n",
       "Zjednoczona Prawica              16\n",
       "Ruch Palikota                    11\n",
       "Biało-Czerwoni                    4\n",
       "dtype: int64"
      ]
     },
     "execution_count": 8,
     "metadata": {},
     "output_type": "execute_result"
    }
   ],
   "source": [
    "# start i end wyglądają teraz OK\n",
    "df[(df.etap=='end') & (df.kadencja==7)].klub.value_counts()"
   ]
  },
  {
   "cell_type": "code",
   "execution_count": 9,
   "metadata": {
    "collapsed": true
   },
   "outputs": [],
   "source": [
    "df[\"kadencja_ef\"] = df[\"kadencja\"] + (df[\"etap\"] == \"end\")/2"
   ]
  },
  {
   "cell_type": "code",
   "execution_count": 10,
   "metadata": {
    "collapsed": false
   },
   "outputs": [],
   "source": [
    "przejscia = {}\n",
    "for osoba, df_osoby in df.groupby('osoba'):\n",
    "    df_osoby = df_osoby.sort(columns=[\"kadencja_ef\"])\n",
    "    for i in range(len(df_osoby) - 1):\n",
    "        # tylko kolejne (testuje czy tak lepiej)\n",
    "        if df_osoby.iloc[i + 1][\"kadencja_ef\"] -  df_osoby.iloc[i][\"kadencja_ef\"] == 0.5:\n",
    "            klub_przed = \"{0} ({1:.1f})\".format(df_osoby.iloc[i][\"klub\"], df_osoby.iloc[i][\"kadencja_ef\"])\n",
    "            klub_po = \"{0} ({1:.1f})\".format(df_osoby.iloc[i + 1][\"klub\"], df_osoby.iloc[i + 1][\"kadencja_ef\"])\n",
    "            if (klub_przed, klub_po) not in przejscia:\n",
    "                przejscia[(klub_przed, klub_po)] = 1\n",
    "            else:\n",
    "                przejscia[(klub_przed, klub_po)] += 1"
   ]
  },
  {
   "cell_type": "code",
   "execution_count": 11,
   "metadata": {
    "collapsed": false
   },
   "outputs": [],
   "source": [
    "df_przejscia = pd.DataFrame([{'source': k1, 'target': k2, 'value': v}\n",
    "                             for (k1, k2), v in przejscia.items()])"
   ]
  },
  {
   "cell_type": "code",
   "execution_count": 12,
   "metadata": {
    "collapsed": false
   },
   "outputs": [
    {
     "data": {
      "text/html": [
       "<div>\n",
       "<table border=\"1\" class=\"dataframe\">\n",
       "  <thead>\n",
       "    <tr style=\"text-align: right;\">\n",
       "      <th></th>\n",
       "      <th>source</th>\n",
       "      <th>target</th>\n",
       "      <th>value</th>\n",
       "    </tr>\n",
       "  </thead>\n",
       "  <tbody>\n",
       "    <tr>\n",
       "      <th>0</th>\n",
       "      <td>Posłowie niezrzeszeni (6.0)</td>\n",
       "      <td>Posłowie niezrzeszeni (6.5)</td>\n",
       "      <td>7</td>\n",
       "    </tr>\n",
       "    <tr>\n",
       "      <th>1</th>\n",
       "      <td>Polski Związek Zachodni (1.0)</td>\n",
       "      <td>Ruch dla Rzeczypospolitej (1.5)</td>\n",
       "      <td>1</td>\n",
       "    </tr>\n",
       "    <tr>\n",
       "      <th>2</th>\n",
       "      <td>Prawo i Sprawiedliwość (3.5)</td>\n",
       "      <td>Prawo i Sprawiedliwość (4.0)</td>\n",
       "      <td>8</td>\n",
       "    </tr>\n",
       "    <tr>\n",
       "      <th>3</th>\n",
       "      <td>Polskie Stronnictwo Ludowe (5.5)</td>\n",
       "      <td>Polskie Stronnictwo Ludowe (6.0)</td>\n",
       "      <td>25</td>\n",
       "    </tr>\n",
       "    <tr>\n",
       "      <th>4</th>\n",
       "      <td>Ruch Odbudowy Polski (3.5)</td>\n",
       "      <td>Liga Polskich Rodzin (4.0)</td>\n",
       "      <td>1</td>\n",
       "    </tr>\n",
       "  </tbody>\n",
       "</table>\n",
       "</div>"
      ],
      "text/plain": [
       "                             source                            target  value\n",
       "0       Posłowie niezrzeszeni (6.0)       Posłowie niezrzeszeni (6.5)      7\n",
       "1     Polski Związek Zachodni (1.0)   Ruch dla Rzeczypospolitej (1.5)      1\n",
       "2      Prawo i Sprawiedliwość (3.5)      Prawo i Sprawiedliwość (4.0)      8\n",
       "3  Polskie Stronnictwo Ludowe (5.5)  Polskie Stronnictwo Ludowe (6.0)     25\n",
       "4        Ruch Odbudowy Polski (3.5)        Liga Polskich Rodzin (4.0)      1"
      ]
     },
     "execution_count": 12,
     "metadata": {},
     "output_type": "execute_result"
    }
   ],
   "source": [
    "df_przejscia.head()"
   ]
  },
  {
   "cell_type": "code",
   "execution_count": 13,
   "metadata": {
    "collapsed": true
   },
   "outputs": [],
   "source": [
    "df_przejscia.to_csv(\"przejscia.csv\", index=False)"
   ]
  },
  {
   "cell_type": "markdown",
   "metadata": {},
   "source": [
    "## A teraz zliczenia"
   ]
  },
  {
   "cell_type": "code",
   "execution_count": 17,
   "metadata": {
    "collapsed": true
   },
   "outputs": [],
   "source": [
    "df_kolory_linki = pd.read_csv(\"./partie_all.csv\", index_col=0).rename(columns={\"kluby\": \"klub\"})"
   ]
  },
  {
   "cell_type": "code",
   "execution_count": 18,
   "metadata": {
    "collapsed": false
   },
   "outputs": [
    {
     "data": {
      "text/html": [
       "<div>\n",
       "<table border=\"1\" class=\"dataframe\">\n",
       "  <thead>\n",
       "    <tr style=\"text-align: right;\">\n",
       "      <th></th>\n",
       "      <th>klub</th>\n",
       "      <th>kolor</th>\n",
       "      <th>wikilink</th>\n",
       "      <th>kadencja_pierwsza</th>\n",
       "      <th>kadencja_ostatnia</th>\n",
       "    </tr>\n",
       "  </thead>\n",
       "  <tbody>\n",
       "    <tr>\n",
       "      <th>1</th>\n",
       "      <td>Akcja Polska</td>\n",
       "      <td>#E9967A</td>\n",
       "      <td>/wiki/Akcja_Polska</td>\n",
       "      <td>1</td>\n",
       "      <td>1</td>\n",
       "    </tr>\n",
       "    <tr>\n",
       "      <th>2</th>\n",
       "      <td>Akcja Wyborcza Solidarność</td>\n",
       "      <td>#FFFF00</td>\n",
       "      <td>/wiki/Akcja_Wyborcza_Solidarno%C5%9B%C4%87</td>\n",
       "      <td>3</td>\n",
       "      <td>3</td>\n",
       "    </tr>\n",
       "    <tr>\n",
       "      <th>3</th>\n",
       "      <td>Alternatywa</td>\n",
       "      <td>#336699</td>\n",
       "      <td>/wiki/Alternatywa_Ruch_Spo%C5%82eczny</td>\n",
       "      <td>3</td>\n",
       "      <td>3</td>\n",
       "    </tr>\n",
       "    <tr>\n",
       "      <th>4</th>\n",
       "      <td>Bezpartyjny Blok Wspierania Reform</td>\n",
       "      <td>#000000</td>\n",
       "      <td>/wiki/Bezpartyjny_Blok_Wspierania_Reform</td>\n",
       "      <td>2</td>\n",
       "      <td>2</td>\n",
       "    </tr>\n",
       "    <tr>\n",
       "      <th>5</th>\n",
       "      <td>Biało-Czerwoni</td>\n",
       "      <td>#FF0004</td>\n",
       "      <td>/wiki/Bia%C5%82o-Czerwoni</td>\n",
       "      <td>7</td>\n",
       "      <td>7</td>\n",
       "    </tr>\n",
       "  </tbody>\n",
       "</table>\n",
       "</div>"
      ],
      "text/plain": [
       "                                 klub    kolor  \\\n",
       "1                        Akcja Polska  #E9967A   \n",
       "2          Akcja Wyborcza Solidarność  #FFFF00   \n",
       "3                         Alternatywa  #336699   \n",
       "4  Bezpartyjny Blok Wspierania Reform  #000000   \n",
       "5                      Biało-Czerwoni  #FF0004   \n",
       "\n",
       "                                     wikilink  kadencja_pierwsza  \\\n",
       "1                          /wiki/Akcja_Polska                  1   \n",
       "2  /wiki/Akcja_Wyborcza_Solidarno%C5%9B%C4%87                  3   \n",
       "3       /wiki/Alternatywa_Ruch_Spo%C5%82eczny                  3   \n",
       "4    /wiki/Bezpartyjny_Blok_Wspierania_Reform                  2   \n",
       "5                   /wiki/Bia%C5%82o-Czerwoni                  7   \n",
       "\n",
       "   kadencja_ostatnia  \n",
       "1                  1  \n",
       "2                  3  \n",
       "3                  3  \n",
       "4                  2  \n",
       "5                  7  "
      ]
     },
     "execution_count": 18,
     "metadata": {},
     "output_type": "execute_result"
    }
   ],
   "source": [
    "df_kolory_linki.head()"
   ]
  },
  {
   "cell_type": "code",
   "execution_count": 28,
   "metadata": {
    "collapsed": false
   },
   "outputs": [],
   "source": [
    "df_liczebnosc = df.groupby([\"klub\", \"kadencja_ef\"]).size().reset_index().rename(columns={0: \"liczba\"})"
   ]
  },
  {
   "cell_type": "code",
   "execution_count": 29,
   "metadata": {
    "collapsed": false
   },
   "outputs": [],
   "source": [
    "df_liczebnosc_kolor = df_liczebnosc.merge(df_kolory_linki[[\"klub\", \"kolor\", \"wikilink\"]], on=\"klub\")"
   ]
  },
  {
   "cell_type": "code",
   "execution_count": 30,
   "metadata": {
    "collapsed": false
   },
   "outputs": [
    {
     "data": {
      "text/html": [
       "<div>\n",
       "<table border=\"1\" class=\"dataframe\">\n",
       "  <thead>\n",
       "    <tr style=\"text-align: right;\">\n",
       "      <th></th>\n",
       "      <th>klub</th>\n",
       "      <th>kadencja_ef</th>\n",
       "      <th>liczba</th>\n",
       "      <th>kolor</th>\n",
       "      <th>wikilink</th>\n",
       "    </tr>\n",
       "  </thead>\n",
       "  <tbody>\n",
       "    <tr>\n",
       "      <th>0</th>\n",
       "      <td>Akcja Polska</td>\n",
       "      <td>1.5</td>\n",
       "      <td>3</td>\n",
       "      <td>#E9967A</td>\n",
       "      <td>/wiki/Akcja_Polska</td>\n",
       "    </tr>\n",
       "    <tr>\n",
       "      <th>1</th>\n",
       "      <td>Akcja Wyborcza Solidarność</td>\n",
       "      <td>3.0</td>\n",
       "      <td>201</td>\n",
       "      <td>#FFFF00</td>\n",
       "      <td>/wiki/Akcja_Wyborcza_Solidarno%C5%9B%C4%87</td>\n",
       "    </tr>\n",
       "    <tr>\n",
       "      <th>2</th>\n",
       "      <td>Akcja Wyborcza Solidarność</td>\n",
       "      <td>3.5</td>\n",
       "      <td>134</td>\n",
       "      <td>#FFFF00</td>\n",
       "      <td>/wiki/Akcja_Wyborcza_Solidarno%C5%9B%C4%87</td>\n",
       "    </tr>\n",
       "    <tr>\n",
       "      <th>3</th>\n",
       "      <td>Alternatywa</td>\n",
       "      <td>3.5</td>\n",
       "      <td>4</td>\n",
       "      <td>#336699</td>\n",
       "      <td>/wiki/Alternatywa_Ruch_Spo%C5%82eczny</td>\n",
       "    </tr>\n",
       "    <tr>\n",
       "      <th>4</th>\n",
       "      <td>Bezpartyjny Blok Wspierania Reform</td>\n",
       "      <td>2.0</td>\n",
       "      <td>7</td>\n",
       "      <td>#000000</td>\n",
       "      <td>/wiki/Bezpartyjny_Blok_Wspierania_Reform</td>\n",
       "    </tr>\n",
       "  </tbody>\n",
       "</table>\n",
       "</div>"
      ],
      "text/plain": [
       "                                 klub  kadencja_ef  liczba    kolor  \\\n",
       "0                        Akcja Polska          1.5       3  #E9967A   \n",
       "1          Akcja Wyborcza Solidarność          3.0     201  #FFFF00   \n",
       "2          Akcja Wyborcza Solidarność          3.5     134  #FFFF00   \n",
       "3                         Alternatywa          3.5       4  #336699   \n",
       "4  Bezpartyjny Blok Wspierania Reform          2.0       7  #000000   \n",
       "\n",
       "                                     wikilink  \n",
       "0                          /wiki/Akcja_Polska  \n",
       "1  /wiki/Akcja_Wyborcza_Solidarno%C5%9B%C4%87  \n",
       "2  /wiki/Akcja_Wyborcza_Solidarno%C5%9B%C4%87  \n",
       "3       /wiki/Alternatywa_Ruch_Spo%C5%82eczny  \n",
       "4    /wiki/Bezpartyjny_Blok_Wspierania_Reform  "
      ]
     },
     "execution_count": 30,
     "metadata": {},
     "output_type": "execute_result"
    }
   ],
   "source": [
    "df_liczebnosc_kolor.head()"
   ]
  },
  {
   "cell_type": "code",
   "execution_count": 31,
   "metadata": {
    "collapsed": true
   },
   "outputs": [],
   "source": [
    "df_liczebnosc_kolor.to_csv(\"liczebnosci_kadencje.csv\", index=False)"
   ]
  },
  {
   "cell_type": "code",
   "execution_count": null,
   "metadata": {
    "collapsed": true
   },
   "outputs": [],
   "source": []
  }
 ],
 "metadata": {
  "kernelspec": {
   "display_name": "Python 3",
   "language": "python",
   "name": "python3"
  },
  "language_info": {
   "codemirror_mode": {
    "name": "ipython",
    "version": 3
   },
   "file_extension": ".py",
   "mimetype": "text/x-python",
   "name": "python",
   "nbconvert_exporter": "python",
   "pygments_lexer": "ipython3",
   "version": "3.4.3"
  }
 },
 "nbformat": 4,
 "nbformat_minor": 0
}
