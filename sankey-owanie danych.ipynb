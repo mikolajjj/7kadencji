{
 "cells": [
  {
   "cell_type": "code",
   "execution_count": 1,
   "metadata": {
    "collapsed": true
   },
   "outputs": [],
   "source": [
    "import pandas as pd"
   ]
  },
  {
   "cell_type": "code",
   "execution_count": 2,
   "metadata": {
    "collapsed": true
   },
   "outputs": [],
   "source": [
    "df = pd.read_csv(\"./all.csv\", index_col=0)"
   ]
  },
  {
   "cell_type": "code",
   "execution_count": 3,
   "metadata": {
    "collapsed": false
   },
   "outputs": [
    {
     "data": {
      "text/html": [
       "<div>\n",
       "<table border=\"1\" class=\"dataframe\">\n",
       "  <thead>\n",
       "    <tr style=\"text-align: right;\">\n",
       "      <th></th>\n",
       "      <th>kadencja</th>\n",
       "      <th>etap</th>\n",
       "      <th>osoba</th>\n",
       "      <th>klub</th>\n",
       "    </tr>\n",
       "  </thead>\n",
       "  <tbody>\n",
       "    <tr>\n",
       "      <th>1</th>\n",
       "      <td>1</td>\n",
       "      <td>start</td>\n",
       "      <td>Adam Glapiński</td>\n",
       "      <td>Klub Parlamentarny Porozumienia Centrum</td>\n",
       "    </tr>\n",
       "    <tr>\n",
       "      <th>2</th>\n",
       "      <td>1</td>\n",
       "      <td>end</td>\n",
       "      <td>Adam Glapiński</td>\n",
       "      <td>Klub Parlamentarny Porozumienia Centrum</td>\n",
       "    </tr>\n",
       "    <tr>\n",
       "      <th>3</th>\n",
       "      <td>1</td>\n",
       "      <td>start</td>\n",
       "      <td>Adam Halber</td>\n",
       "      <td>Polska Partia Przyjaciół Piwa</td>\n",
       "    </tr>\n",
       "    <tr>\n",
       "      <th>4</th>\n",
       "      <td>1</td>\n",
       "      <td>end</td>\n",
       "      <td>Adam Halber</td>\n",
       "      <td>Sojusz Lewicy Demokratycznej Klub Parlamentarny</td>\n",
       "    </tr>\n",
       "    <tr>\n",
       "      <th>5</th>\n",
       "      <td>1</td>\n",
       "      <td>start</td>\n",
       "      <td>Adam Lipiński</td>\n",
       "      <td>Klub Parlamentarny Porozumienia Centrum</td>\n",
       "    </tr>\n",
       "  </tbody>\n",
       "</table>\n",
       "</div>"
      ],
      "text/plain": [
       "   kadencja   etap           osoba  \\\n",
       "1         1  start  Adam Glapiński   \n",
       "2         1    end  Adam Glapiński   \n",
       "3         1  start     Adam Halber   \n",
       "4         1    end     Adam Halber   \n",
       "5         1  start   Adam Lipiński   \n",
       "\n",
       "                                              klub  \n",
       "1          Klub Parlamentarny Porozumienia Centrum  \n",
       "2          Klub Parlamentarny Porozumienia Centrum  \n",
       "3                    Polska Partia Przyjaciół Piwa  \n",
       "4  Sojusz Lewicy Demokratycznej Klub Parlamentarny  \n",
       "5          Klub Parlamentarny Porozumienia Centrum  "
      ]
     },
     "execution_count": 3,
     "metadata": {},
     "output_type": "execute_result"
    }
   ],
   "source": [
    "df.head()"
   ]
  },
  {
   "cell_type": "code",
   "execution_count": 8,
   "metadata": {
    "collapsed": false
   },
   "outputs": [],
   "source": [
    "df_kluby_slowniczek = pd.read_csv(\"./slownik_klubow.csv\", index_col=0)"
   ]
  },
  {
   "cell_type": "code",
   "execution_count": 9,
   "metadata": {
    "collapsed": false
   },
   "outputs": [],
   "source": [
    "kluby_dict = {v['old']: v['klub'] for k, v in df_kluby_slowniczek.iterrows()}"
   ]
  },
  {
   "cell_type": "code",
   "execution_count": 12,
   "metadata": {
    "collapsed": false
   },
   "outputs": [],
   "source": [
    "df['klub'] = df['klub'].map(kluby_dict)"
   ]
  },
  {
   "cell_type": "code",
   "execution_count": 14,
   "metadata": {
    "collapsed": false
   },
   "outputs": [
    {
     "data": {
      "text/html": [
       "<div>\n",
       "<table border=\"1\" class=\"dataframe\">\n",
       "  <thead>\n",
       "    <tr style=\"text-align: right;\">\n",
       "      <th></th>\n",
       "      <th>kadencja</th>\n",
       "      <th>etap</th>\n",
       "      <th>osoba</th>\n",
       "      <th>klub</th>\n",
       "    </tr>\n",
       "  </thead>\n",
       "  <tbody>\n",
       "    <tr>\n",
       "      <th>1</th>\n",
       "      <td>1</td>\n",
       "      <td>start</td>\n",
       "      <td>Adam Glapiński</td>\n",
       "      <td>Porozumienie Centrum</td>\n",
       "    </tr>\n",
       "    <tr>\n",
       "      <th>2</th>\n",
       "      <td>1</td>\n",
       "      <td>end</td>\n",
       "      <td>Adam Glapiński</td>\n",
       "      <td>Porozumienie Centrum</td>\n",
       "    </tr>\n",
       "    <tr>\n",
       "      <th>3</th>\n",
       "      <td>1</td>\n",
       "      <td>start</td>\n",
       "      <td>Adam Halber</td>\n",
       "      <td>Polska Partia Przyjaciół Piwa</td>\n",
       "    </tr>\n",
       "    <tr>\n",
       "      <th>4</th>\n",
       "      <td>1</td>\n",
       "      <td>end</td>\n",
       "      <td>Adam Halber</td>\n",
       "      <td>Sojusz Lewicy Demokratycznej</td>\n",
       "    </tr>\n",
       "    <tr>\n",
       "      <th>5</th>\n",
       "      <td>1</td>\n",
       "      <td>start</td>\n",
       "      <td>Adam Lipiński</td>\n",
       "      <td>Porozumienie Centrum</td>\n",
       "    </tr>\n",
       "  </tbody>\n",
       "</table>\n",
       "</div>"
      ],
      "text/plain": [
       "   kadencja   etap           osoba                           klub\n",
       "1         1  start  Adam Glapiński           Porozumienie Centrum\n",
       "2         1    end  Adam Glapiński           Porozumienie Centrum\n",
       "3         1  start     Adam Halber  Polska Partia Przyjaciół Piwa\n",
       "4         1    end     Adam Halber   Sojusz Lewicy Demokratycznej\n",
       "5         1  start   Adam Lipiński           Porozumienie Centrum"
      ]
     },
     "execution_count": 14,
     "metadata": {},
     "output_type": "execute_result"
    }
   ],
   "source": [
    "df.head()"
   ]
  },
  {
   "cell_type": "code",
   "execution_count": 25,
   "metadata": {
    "collapsed": false
   },
   "outputs": [
    {
     "data": {
      "text/plain": [
       "Platforma Obywatelska           197\n",
       "Prawo i Sprawiedliwość          134\n",
       "Polskie Stronnictwo Ludowe       38\n",
       "Sojusz Lewicy Demokratycznej     35\n",
       "Posłowie niezrzeszeni            25\n",
       "Zjednoczona Prawica              16\n",
       "Ruch Palikota                    11\n",
       "Biało-Czerwoni                    4\n",
       "dtype: int64"
      ]
     },
     "execution_count": 25,
     "metadata": {},
     "output_type": "execute_result"
    }
   ],
   "source": [
    "# start i end wyglądają teraz OK\n",
    "df[(df.etap=='end') & (df.kadencja==7)].klub.value_counts()"
   ]
  },
  {
   "cell_type": "code",
   "execution_count": 26,
   "metadata": {
    "collapsed": true
   },
   "outputs": [],
   "source": [
    "df[\"kadencja_ef\"] = df[\"kadencja\"] + (df[\"etap\"] == \"end\")/2"
   ]
  },
  {
   "cell_type": "code",
   "execution_count": 51,
   "metadata": {
    "collapsed": false
   },
   "outputs": [],
   "source": [
    "przejscia = {}\n",
    "for osoba, df_osoby in df.groupby('osoba'):\n",
    "    df_osoby = df_osoby.sort(columns=[\"kadencja_ef\"])\n",
    "    for i in range(len(df_osoby) - 1):\n",
    "        klub_przed = \"{0} ({1:.1f})\".format(df_osoby.iloc[i][\"klub\"], df_osoby.iloc[i][\"kadencja_ef\"])\n",
    "        klub_po = \"{0} ({1:.1f})\".format(df_osoby.iloc[i + 1][\"klub\"], df_osoby.iloc[i + 1][\"kadencja_ef\"])\n",
    "        if (klub_przed, klub_po) not in przejscia:\n",
    "            przejscia[(klub_przed, klub_po)] = 1\n",
    "        else:\n",
    "            przejscia[(klub_przed, klub_po)] += 1"
   ]
  },
  {
   "cell_type": "code",
   "execution_count": 53,
   "metadata": {
    "collapsed": false
   },
   "outputs": [],
   "source": [
    "df_przejscia = pd.DataFrame([{'source': k1, 'target': k2, 'value': v}\n",
    "                             for (k1, k2), v in przejscia.items()])"
   ]
  },
  {
   "cell_type": "code",
   "execution_count": 54,
   "metadata": {
    "collapsed": false
   },
   "outputs": [
    {
     "data": {
      "text/html": [
       "<div>\n",
       "<table border=\"1\" class=\"dataframe\">\n",
       "  <thead>\n",
       "    <tr style=\"text-align: right;\">\n",
       "      <th></th>\n",
       "      <th>source</th>\n",
       "      <th>target</th>\n",
       "      <th>value</th>\n",
       "    </tr>\n",
       "  </thead>\n",
       "  <tbody>\n",
       "    <tr>\n",
       "      <th>0</th>\n",
       "      <td>Sojusz Lewicy Demokratycznej (7.0)</td>\n",
       "      <td>Posłowie niezrzeszeni (7.5)</td>\n",
       "      <td>1</td>\n",
       "    </tr>\n",
       "    <tr>\n",
       "      <th>1</th>\n",
       "      <td>Posłowie niezrzeszeni (2.5)</td>\n",
       "      <td>Sojusz Lewicy Demokratycznej (3.0)</td>\n",
       "      <td>1</td>\n",
       "    </tr>\n",
       "    <tr>\n",
       "      <th>2</th>\n",
       "      <td>Ruch dla Rzeczypospolitej (1.5)</td>\n",
       "      <td>Ruch Odbudowy Polski (3.0)</td>\n",
       "      <td>2</td>\n",
       "    </tr>\n",
       "    <tr>\n",
       "      <th>3</th>\n",
       "      <td>Platforma Obywatelska (4.0)</td>\n",
       "      <td>Prawo i Sprawiedliwość (4.5)</td>\n",
       "      <td>1</td>\n",
       "    </tr>\n",
       "    <tr>\n",
       "      <th>4</th>\n",
       "      <td>Unia Wolności (3.0)</td>\n",
       "      <td>Unia Wolności (3.5)</td>\n",
       "      <td>47</td>\n",
       "    </tr>\n",
       "  </tbody>\n",
       "</table>\n",
       "</div>"
      ],
      "text/plain": [
       "                               source                              target  \\\n",
       "0  Sojusz Lewicy Demokratycznej (7.0)         Posłowie niezrzeszeni (7.5)   \n",
       "1         Posłowie niezrzeszeni (2.5)  Sojusz Lewicy Demokratycznej (3.0)   \n",
       "2     Ruch dla Rzeczypospolitej (1.5)          Ruch Odbudowy Polski (3.0)   \n",
       "3         Platforma Obywatelska (4.0)        Prawo i Sprawiedliwość (4.5)   \n",
       "4                 Unia Wolności (3.0)                 Unia Wolności (3.5)   \n",
       "\n",
       "   value  \n",
       "0      1  \n",
       "1      1  \n",
       "2      2  \n",
       "3      1  \n",
       "4     47  "
      ]
     },
     "execution_count": 54,
     "metadata": {},
     "output_type": "execute_result"
    }
   ],
   "source": [
    "df_przejscia.head()"
   ]
  },
  {
   "cell_type": "code",
   "execution_count": 55,
   "metadata": {
    "collapsed": true
   },
   "outputs": [],
   "source": [
    "df_przejscia.to_csv(\"przejscia.csv\", index=False)"
   ]
  },
  {
   "cell_type": "code",
   "execution_count": null,
   "metadata": {
    "collapsed": true
   },
   "outputs": [],
   "source": []
  }
 ],
 "metadata": {
  "kernelspec": {
   "display_name": "Python 3",
   "language": "python",
   "name": "python3"
  },
  "language_info": {
   "codemirror_mode": {
    "name": "ipython",
    "version": 3
   },
   "file_extension": ".py",
   "mimetype": "text/x-python",
   "name": "python",
   "nbconvert_exporter": "python",
   "pygments_lexer": "ipython3",
   "version": "3.4.3"
  }
 },
 "nbformat": 4,
 "nbformat_minor": 0
}
